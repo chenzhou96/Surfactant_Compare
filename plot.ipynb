{
 "cells": [
  {
   "cell_type": "code",
   "execution_count": 1,
   "metadata": {},
   "outputs": [
    {
     "data": {
      "text/plain": [
       "'d:\\\\CS\\\\Surfactant_Compare\\\\basic_scatter_chart.html'"
      ]
     },
     "execution_count": 1,
     "metadata": {},
     "output_type": "execute_result"
    }
   ],
   "source": [
    "import pyecharts.options as opts\n",
    "from pyecharts.charts import Scatter\n",
    "\n",
    "data_names = [\n",
    "    '品牌: 沪试\\n货号: 40061960',\n",
    "    '品牌: 沪试\\n货号: 30189828',\n",
    "    '品牌: 源叶\\n货号: S15020-500ml',\n",
    "    '品牌: 生工\\n货号: A600562-0500',\n",
    "    '品牌: 生工\\n货号: A100442-0500',\n",
    "    '品牌: 毕得\\n货号: BD148605',\n",
    "    '品牌: 安耐吉\\n货号: E0807391000',\n",
    "    '品牌: 麦克林\\n货号: T818928',\n",
    "    '品牌: 麦克林\\n货号: T6336',\n",
    "    '品牌: 麦克林\\n货号: T818929',\n",
    "    '品牌: 阿拉丁\\n货号: T104865-500ml',\n",
    "    '品牌: 阿拉丁\\n货号: T104866-500ml',\n",
    "    '品牌: TCI\\n货号: T0546',\n",
    "    '品牌: TCI\\n货号: T2533',\n",
    "    '品牌: Thermo\\n货号: L13315',\n",
    "    '品牌: Thermo\\n货号: W00518',\n",
    "    '品牌: Sigma-Aldrich\\n货号: 59924-100G-F',\n",
    "    ]\n",
    "\n",
    "data = [\n",
    "    [-0.876094463, -0.143008929],\n",
    "    [0.501665191, -0.355991567],\n",
    "    [-0.816561002, -0.149341806],\n",
    "    [-0.777648498, -0.190122129],\n",
    "    [0.844524358, -0.202754867],\n",
    "    [0.575118488, -0.337924612],\n",
    "    [-0.863149581, -0.080456896],\n",
    "    [-0.962734192, 0.058771142],\n",
    "    [-0.951053661, 0.141200396],\n",
    "    [-0.945291199, 0.154930937],\n",
    "    [0.837233974, 0.128316366],\n",
    "    [0.901321423, 0.095285823],\n",
    "    [0.979956474, 0.124933329],\n",
    "    [0.956465157, 0.19248134],\n",
    "    [0.435146916, -0.057441172],\n",
    "    [-0.735988354, 0.376645168],\n",
    "    [0.897088968, 0.244477477],\n",
    "    ]\n",
    "x_data = [d[0] for d in data]\n",
    "y_data = [d[1] for d in data]\n",
    "\n",
    "(\n",
    "    Scatter()\n",
    "    .add_xaxis(xaxis_data=x_data)\n",
    "    .add_yaxis(\n",
    "        series_name=\"\",\n",
    "        y_axis=y_data,\n",
    "        symbol_size=20,\n",
    "        label_opts=opts.LabelOpts(is_show=False),\n",
    "    )\n",
    "    .set_series_opts()\n",
    "    .set_global_opts(\n",
    "        xaxis_opts=opts.AxisOpts(\n",
    "            type_=\"value\", splitline_opts=opts.SplitLineOpts(is_show=True)\n",
    "        ),\n",
    "        yaxis_opts=opts.AxisOpts(\n",
    "            type_=\"value\",\n",
    "            axistick_opts=opts.AxisTickOpts(is_show=True),\n",
    "            splitline_opts=opts.SplitLineOpts(is_show=True),\n",
    "        ),\n",
    "        tooltip_opts=opts.TooltipOpts(is_show=True,\n",
    "            formatter=f\"{data_names}\"),\n",
    "    )\n",
    "    .render(\"basic_scatter_chart.html\")\n",
    ")\n"
   ]
  },
  {
   "cell_type": "code",
   "execution_count": 24,
   "metadata": {},
   "outputs": [
    {
     "name": "stdout",
     "output_type": "stream",
     "text": [
      "[[31, '草莓', 128], [128, '芒果', 57], [98, '葡萄', 84], [56, '雪梨', 72], [109, '西瓜', 67], [125, '柠檬', 61], [118, '车厘子', 78]]\n"
     ]
    }
   ],
   "source": [
    "from pyecharts import options as opts\n",
    "from pyecharts.charts import Scatter\n",
    "from pyecharts.commons.utils import JsCode\n",
    "from pyecharts.faker import Faker\n",
    "\n",
    "value = Faker.values()\n",
    "value1 = Faker.values()\n",
    "choose = Faker.choose()\n",
    "data = [list(z) for z in zip(value, choose, value1)]\n",
    "print(data)\n",
    "\n",
    "c = (\n",
    "    Scatter()\n",
    "    .add_xaxis(choose)\n",
    "    .add_yaxis(\n",
    "        \"商家A\",\n",
    "        data,\n",
    "        # 标记的大小\n",
    "        symbol_size=20,\n",
    "        #标签配置项\n",
    "        label_opts=opts.LabelOpts(is_show=False,\n",
    "            formatter=JsCode(\n",
    "                # 构造回调函数\n",
    "                \"function(params){return params.value[1] +' : '+ params.value[2];}\"\n",
    "            )  #params.value[1]对应y轴Faker.values() :  params.value[2]对应y轴Faker.choose()\n",
    "        ),\n",
    "    )\n",
    "    .set_global_opts(\n",
    "        title_opts=opts.TitleOpts(title=\"Scatter-多维度数据\"),\n",
    "        # 提示框配置项\n",
    "        tooltip_opts=opts.TooltipOpts(\n",
    "            formatter=JsCode(\n",
    "                # 构造回调函数\n",
    "                \"function (params) {return params.name + ' : ' + params.value[2];}\"\n",
    "            )  #params.name对应x轴的Faker.choose() : params.value[2]对应y轴Faker.choose()\n",
    "        ),\n",
    "        # 视觉映射配置项\n",
    "        visualmap_opts=opts.VisualMapOpts(\n",
    "            #颜色映射\n",
    "            type_=\"color\", \n",
    "            max_=150, \n",
    "            min_=20, \n",
    "            dimension=1  ## 组件映射维度\n",
    "        ),\n",
    "    )\n",
    "    .render(\"scatter_multi_dimension.html\")\n",
    ")"
   ]
  }
 ],
 "metadata": {
  "kernelspec": {
   "display_name": "base",
   "language": "python",
   "name": "python3"
  },
  "language_info": {
   "codemirror_mode": {
    "name": "ipython",
    "version": 3
   },
   "file_extension": ".py",
   "mimetype": "text/x-python",
   "name": "python",
   "nbconvert_exporter": "python",
   "pygments_lexer": "ipython3",
   "version": "3.11.4"
  }
 },
 "nbformat": 4,
 "nbformat_minor": 2
}
